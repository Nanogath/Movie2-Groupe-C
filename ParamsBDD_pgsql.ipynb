{
 "cells": [
  {
   "cell_type": "markdown",
   "metadata": {},
   "source": [
    "## 1. Création de la Base de données Floupics.db pour insertion des fichiers CSV sous PostgreSQL"
   ]
  },
  {
   "cell_type": "markdown",
   "metadata": {},
   "source": [
    "Pour créer notre base de données dans PostgreSQL, on va utiliser l'interface pgAdmin4.\n",
    "\n",
    "Voici la requête SQL que va éxecuter pgAdmin4 pour créer Floupics_bdd :\n",
    "\n",
    "```sql\n",
    "CREATE DATABASE \"Floupics_bdd\"\n",
    "    WITH \n",
    "    OWNER = postgres\n",
    "    ENCODING = 'UTF8'\n",
    "    CONNECTION LIMIT = -1;\n",
    "\n",
    "COMMENT ON DATABASE \"Floupics_bdd\"\n",
    "    IS 'Base de données Floupics';\n",
    "```"
   ]
  },
  {
   "cell_type": "markdown",
   "metadata": {},
   "source": [
    "Et voici le pas à pas détaillé pour créer à l'aide de l'interface graphique de pgAdmin4 :\n",
    "\n",
    "    1. Clique droit sur Databses > Create > Database...\n",
    "\n",
    "![creation1](IMG/creation1.png)\n",
    "\n",
    "    2. Cela ouvre la boite de dialogue \"Create-Database\" où l'on va paramétrer la base de données. Dans notre cas, on va simplement ajouter le nom et un commentaire. Puis on valide avec \"Save\"\n",
    "    \n",
    "![creation2](IMG/creation2.png)\n",
    "\n",
    "    3. La base de données est créée. On clique dessus pour la connecter et déployer les options. Les tables qui seront créées par la suite seront consultables dans Floupics_bdd > Schemas(1) > Public > Tables\n",
    "\n",
    "![creation3](IMG/creation3.png)"
   ]
  },
  {
   "cell_type": "markdown",
   "metadata": {},
   "source": [
    "---"
   ]
  },
  {
   "cell_type": "markdown",
   "metadata": {},
   "source": [
    "## 2. Ajout des tables dans la base de données Floupics"
   ]
  },
  {
   "cell_type": "code",
   "execution_count": 1,
   "metadata": {},
   "outputs": [
    {
     "name": "stdout",
     "output_type": "stream",
     "text": [
      "azerty123\n"
     ]
    }
   ],
   "source": [
    "#cet import permet de charger le mot de passe configuré dans les variables d'environnement de l'OS\n",
    "import os\n",
    "mon_mot_secret = os.environ.get('mot_secret')\n",
    "print(mon_mot_secret)"
   ]
  },
  {
   "cell_type": "code",
   "execution_count": 2,
   "metadata": {},
   "outputs": [],
   "source": [
    "#psycopg2 est le module qui va permettre d'intéragir avec PostgreSQL.\n",
    "import psycopg2"
   ]
  },
  {
   "cell_type": "code",
   "execution_count": 3,
   "metadata": {},
   "outputs": [],
   "source": [
    "#Ici, nous allons paramétrer les variables de connexion à PostgreSQL\n",
    "ma_base_donnees = \"Floupics_bdd\"\n",
    "utilisateur = \"postgres\"\n",
    "mot_passe = os.environ.get('pg_psw')"
   ]
  },
  {
   "cell_type": "code",
   "execution_count": 4,
   "metadata": {},
   "outputs": [],
   "source": [
    "#voici le bloc d'instruction complet qui permet de créer les tables et insérer les données issues des CSV\n",
    "def PgImport(sql_suppr_table, sql_creer_table, sql_inserer_donnees):\n",
    "    \n",
    "    try: #On crée la connexion à la Base de données Floupics_bdd qui va contenir les 4 tables issues des 4 fichiers CSV.\n",
    "        conn = psycopg2.connect(host=\"localhost\", dbname=ma_base_donnees, user=utilisateur, password=mot_passe, port=5432)\n",
    "        \n",
    "    except psycopg2.Error as e:\n",
    "            print(\"Erreur lors de la connection à la base de données\")\n",
    "            print(e)\n",
    "            return None\n",
    "        \n",
    "    conn.set_session(autocommit=True) #permet d'activer les commit automatiquement.\n",
    "    \n",
    "        \n",
    "    cursor = conn.cursor() #activation du curseur dans PGSQL\n",
    "    \n",
    "    try:\n",
    "        \"\"\"Avant la création, le programme vérifie si la table existe déjà;\n",
    "        si c'est le cas, il la supprime.\"\"\"\n",
    "        cursor.execute(sql_suppr_table)\n",
    "            \n",
    "    except psycopg2.Error as e:\n",
    "        print(\"Erreur lors de la suppression de la table\")\n",
    "        print(e)\n",
    "        return\n",
    "    print(\"La table a été supprimée avec succès\")\n",
    "    \n",
    "    try:\n",
    "        \"\"\"à cette étape, on donne l'instruction au curseur de formater la table\n",
    "        selon les champs définis dans la variable sql_créer_table.\"\"\"\n",
    "        cursor.execute(sql_creer_table)\n",
    "\n",
    "    except psycopg2.Error as e:\n",
    "        print(\"Erreur lors de la création de la table\")\n",
    "        print(e)\n",
    "        return\n",
    "    print(\"La table a été crée avec succès\")\n",
    "\n",
    "    try:\n",
    "        \"\"\"enfin, on donne l'instruction au curseur d'insérer les données dans la table créée\n",
    "        selon les champs définis dans la variable sql_insérer_données.\"\"\"\n",
    "        cursor.execute(sql_inserer_donnees)\n",
    "\n",
    "    except psycopg2.Error as e:\n",
    "        print(\"Erreur lors de l'insertion des données\")\n",
    "        print(e)\n",
    "        return\n",
    "        cursor.close()\n",
    "    print(\"Les données ont été insérées avec succès\")"
   ]
  },
  {
   "cell_type": "markdown",
   "metadata": {},
   "source": [
    "Pour chacune des tables, on va lancer l'exécution de la cellule correspondante.\n",
    "\n",
    "On commence par la table movies car après analyse du MCD, les autres tables reçoivent comme Foreign Key movieId.\n",
    "\n",
    "C'est cette Foreign Key qui permet la liaison entre les tables."
   ]
  },
  {
   "cell_type": "code",
   "execution_count": 5,
   "metadata": {},
   "outputs": [
    {
     "name": "stdout",
     "output_type": "stream",
     "text": [
      "La table a été supprimée avec succès\n",
      "La table a été crée avec succès\n",
      "Les données ont été insérées avec succès\n"
     ]
    }
   ],
   "source": [
    "sql_suppr_table = \"\"\"\n",
    "    DROP TABLE IF EXISTS movies CASCADE;\n",
    "\"\"\"\n",
    "\n",
    "sql_creer_table = \"\"\"\n",
    "    CREATE TABLE IF NOT EXISTS movies (\n",
    "                    movieId INTEGER NOT NULL PRIMARY KEY,\n",
    "                    title TEXT,\n",
    "                    genres TEXT\n",
    "    );\n",
    "\"\"\"\n",
    "\n",
    "sql_inserer_donnees = \"\"\"\n",
    "    COPY movies (movieId, title, genres) \n",
    "    FROM 'C:/Users/joris/Documents/Simplon/Dev_data/Fil_Rouge/Movies_2/Movie2-Groupe-C/CSV/movies.csv'\n",
    "\tWITH CSV HEADER DELIMITER ',' QUOTE '\"';\n",
    "\"\"\"\n",
    "\n",
    "PgImport(sql_suppr_table, sql_creer_table, sql_inserer_donnees)"
   ]
  },
  {
   "cell_type": "markdown",
   "metadata": {},
   "source": [
    "Et voici le pas à pas détaillé pour vérifier la création et l'importation des données à l'aide de l'interface graphique de pgAdmin4 :\n",
    "\n",
    "    1. Clic droit sur Tables > Refresh... ; pour rafraîchir les informations sur pgAdmin4\n",
    "\n",
    "![verif1](IMG/verif1.png)\n",
    "\n",
    "    2. La table movies est apparue et on peut voir que Tables affiche désormais Tables(1). Avec un double clic gauche sur \"movies\", on peut voir les colonnes créées. En faisant un clic droit sur la table movies > View/Edit Data > All rows, on va vérifier que toutes les lignes ont bien été copiées depuis le fichier CSV.\n",
    "    \n",
    "![verif2](IMG/verif2.png)\n",
    "\n",
    "    3. On a bien le message de confirmation que 9742 lignes ont été renseignées. \n",
    "\n",
    "![verif3](IMG/verif3.png)\n",
    "\n",
    "\n",
    "On peut maintenant activer les 3 autres cellules pour finir d'alimenter notre base de données."
   ]
  },
  {
   "cell_type": "code",
   "execution_count": 6,
   "metadata": {},
   "outputs": [
    {
     "name": "stdout",
     "output_type": "stream",
     "text": [
      "La table a été supprimée avec succès\n",
      "La table a été crée avec succès\n",
      "Les données ont été insérées avec succès\n"
     ]
    }
   ],
   "source": [
    "sql_suppr_table = \"\"\"\n",
    "    DROP TABLE IF EXISTS tags CASCADE;\n",
    "\"\"\"\n",
    "\n",
    "sql_creer_table = \"\"\"\n",
    "    CREATE TABLE IF NOT EXISTS tags (\n",
    "                    userId INTEGER,\n",
    "                    movieId INTEGER,\n",
    "                    tag TEXT,\n",
    "                    timestamp INTEGER,\n",
    "                    CONSTRAINT fk_movieId\n",
    "                        FOREIGN KEY(movieId)\n",
    "                            REFERENCES movies(movieId),\n",
    "                    PRIMARY KEY (userId, movieId, tag)\n",
    "    );\n",
    "\"\"\"\n",
    "\n",
    "sql_inserer_donnees = \"\"\"\n",
    "    COPY tags (userId, movieId, tag, timestamp) \n",
    "    FROM 'C:/Users/joris/Documents/Simplon/Dev_data/Fil_Rouge/Movies_2/Movie2-Groupe-C/CSV/tags.csv'\n",
    "\tWITH CSV HEADER DELIMITER ',' QUOTE '\"';\n",
    "\"\"\"\n",
    "\n",
    "PgImport(sql_suppr_table, sql_creer_table, sql_inserer_donnees)"
   ]
  },
  {
   "cell_type": "code",
   "execution_count": 7,
   "metadata": {},
   "outputs": [
    {
     "name": "stdout",
     "output_type": "stream",
     "text": [
      "La table a été supprimée avec succès\n",
      "La table a été crée avec succès\n",
      "Les données ont été insérées avec succès\n"
     ]
    }
   ],
   "source": [
    "sql_suppr_table = \"\"\"\n",
    "    DROP TABLE IF EXISTS links CASCADE;\n",
    "\"\"\"\n",
    "\n",
    "sql_creer_table = \"\"\"\n",
    "    CREATE TABLE IF NOT EXISTS links (\n",
    "                    movieId INTEGER,\n",
    "                    imdbId INTEGER,\n",
    "                    tmdbId TEXT,\n",
    "                    CONSTRAINT fk_movieId\n",
    "                        FOREIGN KEY(movieId)\n",
    "                            REFERENCES movies(movieId),\n",
    "                    PRIMARY KEY (movieId, imdbId, tmdbId)\n",
    "    );\n",
    "\"\"\"\n",
    "\n",
    "sql_inserer_donnees = \"\"\"\n",
    "    COPY links (movieId, imdbId, tmdbId) \n",
    "    FROM 'C:/Users/joris/Documents/Simplon/Dev_data/Fil_Rouge/Movies_2/Movie2-Groupe-C/CSV/links.csv'\n",
    "\tWITH CSV HEADER DELIMITER ',' QUOTE '\"' FORCE NOT NULL tmdbId;\n",
    "\"\"\"\n",
    "\n",
    "PgImport(sql_suppr_table, sql_creer_table, sql_inserer_donnees)"
   ]
  },
  {
   "cell_type": "code",
   "execution_count": 8,
   "metadata": {},
   "outputs": [
    {
     "name": "stdout",
     "output_type": "stream",
     "text": [
      "La table a été supprimée avec succès\n",
      "La table a été crée avec succès\n",
      "Les données ont été insérées avec succès\n"
     ]
    }
   ],
   "source": [
    "sql_suppr_table = \"\"\"\n",
    "    DROP TABLE IF EXISTS ratings CASCADE;\n",
    "\"\"\"\n",
    "\n",
    "sql_creer_table = \"\"\"\n",
    "    CREATE TABLE IF NOT EXISTS ratings (\n",
    "                    userId INTEGER,\n",
    "                    movieId INTEGER,\n",
    "                    rating REAL,\n",
    "                    timestamp INTEGER,\n",
    "                    CONSTRAINT fk_movieId\n",
    "                        FOREIGN KEY(movieId)\n",
    "                            REFERENCES movies(movieId),\n",
    "                    PRIMARY KEY (userId, movieId)\n",
    "    );\n",
    "\"\"\"\n",
    "\n",
    "sql_inserer_donnees = \"\"\"\n",
    "    COPY ratings (userId, movieId, rating, timestamp) \n",
    "    FROM 'C:/Users/joris/Documents/Simplon/Dev_data/Fil_Rouge/Movies_2/Movie2-Groupe-C/CSV/ratings.csv'\n",
    "\tWITH CSV HEADER DELIMITER ',' QUOTE '\"';\n",
    "\"\"\"\n",
    "\n",
    "PgImport(sql_suppr_table, sql_creer_table, sql_inserer_donnees)"
   ]
  },
  {
   "cell_type": "markdown",
   "metadata": {},
   "source": [
    "Nos 4 tables ont bien été créées et alimentées par les fichiers CSV.\n",
    "\n",
    "![verif4](IMG/verif4.png)\n",
    "\n",
    "Grâce à Dbeaver, on peut générer le ER Diagram qui va nous permettre de vérifier que nos tables sont bien liées entre elles grâce aux foreign key.\n",
    "    \n",
    "![diagram](IMG/diagram.png)\n",
    "\n",
    "Dernière étape, on souhaitait ajouter 2 colonnes supplémentaires dans la table \"movies\" pour séparer les années des titres."
   ]
  },
  {
   "cell_type": "markdown",
   "metadata": {},
   "source": [
    "---"
   ]
  },
  {
   "cell_type": "markdown",
   "metadata": {},
   "source": [
    "## 3. Comment modifier la table 'movies' avec un ajout de colonnes"
   ]
  },
  {
   "cell_type": "code",
   "execution_count": 9,
   "metadata": {},
   "outputs": [],
   "source": [
    "def Pgmodify(sql_modifier_table):\n",
    "    \n",
    "    try: #On crée la connexion à la Base de données Floupics_test.db qui va contenir les 4 tables issues des 4 fichiers CSV.\n",
    "        conn = psycopg2.connect(host=\"localhost\", dbname=ma_base_donnees, user=utilisateur, password=mot_passe, port=5432)\n",
    "        \n",
    "    except psycopg2.Error as e:\n",
    "            print(\"Erreur lors de la connection à la base de données\")\n",
    "            print(e)\n",
    "            return None\n",
    "        \n",
    "    conn.set_session(autocommit=True) #permet d'activer les commit automatiquement.\n",
    "    \n",
    "        \n",
    "    cursor = conn.cursor() #activation du curseur dans PGSQL\n",
    "    \n",
    "    try:\n",
    "        \"\"\"à cette étape, on donne l'instruction au curseur de modifier la table\n",
    "        selon les champs définis dans la variable sql_modifier_table.\"\"\"\n",
    "        cursor.execute(sql_modifier_table)\n",
    "            \n",
    "    except psycopg2.Error as e:\n",
    "        print(\"Erreur lors de la modification de la table\")\n",
    "        print(e)\n",
    "        return\n",
    "        cursor.close()\n",
    "    print(\"La table a été modifiée avec succès\")"
   ]
  },
  {
   "cell_type": "code",
   "execution_count": 10,
   "metadata": {},
   "outputs": [
    {
     "name": "stdout",
     "output_type": "stream",
     "text": [
      "La table a été modifiée avec succès\n"
     ]
    }
   ],
   "source": [
    "sql_modifier_table = \"\"\"\n",
    "ALTER TABLE movies \n",
    "add COLUMN year text generated always AS (TRIM(RIGHT(title, 6), '()')) stored,\n",
    "add COLUMN title_only text generated always AS (TRIM(LEFT(title, -6))) stored;\n",
    "\"\"\"\n",
    "Pgmodify(sql_modifier_table)"
   ]
  },
  {
   "cell_type": "markdown",
   "metadata": {},
   "source": [
    "Ci-dessous, nous pouvons constater l'ajout des 2 nouvelles colonnes year et title_only dans la table movies :\n",
    "\n",
    "![update](IMG/update.png)"
   ]
  },
  {
   "cell_type": "markdown",
   "metadata": {},
   "source": [
    "---"
   ]
  },
  {
   "cell_type": "code",
   "execution_count": null,
   "metadata": {},
   "outputs": [],
   "source": []
  }
 ],
 "metadata": {
  "kernelspec": {
   "display_name": "Python 3",
   "language": "python",
   "name": "python3"
  },
  "language_info": {
   "codemirror_mode": {
    "name": "ipython",
    "version": 3
   },
   "file_extension": ".py",
   "mimetype": "text/x-python",
   "name": "python",
   "nbconvert_exporter": "python",
   "pygments_lexer": "ipython3",
   "version": "3.8.6"
  }
 },
 "nbformat": 4,
 "nbformat_minor": 4
}
