{
 "cells": [
  {
   "cell_type": "code",
   "execution_count": 1,
   "metadata": {},
   "outputs": [],
   "source": [
    "import os\n",
    "# Import des deux fichiers python contenant nos différentes fonctions\n",
    "import utils\n",
    "import crud"
   ]
  },
  {
   "cell_type": "markdown",
   "metadata": {},
   "source": [
    "### Ouverture de la connexion"
   ]
  },
  {
   "cell_type": "code",
   "execution_count": 2,
   "metadata": {},
   "outputs": [
    {
     "data": {
      "text/plain": [
       "psycopg2.extensions.connection"
      ]
     },
     "execution_count": 2,
     "metadata": {},
     "output_type": "execute_result"
    }
   ],
   "source": [
    "bdd = \"floupics\"\n",
    "user = \"postgres\"\n",
    "psw = os.environ.get(\"pg_psw\")\n",
    "\n",
    "conn = crud.ouvrir_connection(bdd, user, psw)\n",
    "type(conn)"
   ]
  },
  {
   "cell_type": "markdown",
   "metadata": {},
   "source": [
    "### Création des tables & Insertion des données contenues dans les csv"
   ]
  },
  {
   "cell_type": "code",
   "execution_count": 3,
   "metadata": {},
   "outputs": [],
   "source": [
    "#Movies table\n",
    "movie_file = 'CSV/movies.csv'\n",
    "movie_table = \"\"\"CREATE TABLE IF NOT EXISTS movies (\n",
    "                    movieId INT NOT NULL PRIMARY KEY,\n",
    "                    title TEXT,\n",
    "                    genres TEXT\n",
    "                )\"\"\"\n",
    "movie_insert = 'INSERT INTO movies (movieId, title, genres) values (%s, %s, %s)'\n",
    "\n",
    "crud.create_and_insert(conn, movie_table, movie_insert, movie_file)"
   ]
  },
  {
   "cell_type": "code",
   "execution_count": 4,
   "metadata": {},
   "outputs": [],
   "source": [
    "#Ratings table\n",
    "ratings_file = 'CSV/ratings.csv'\n",
    "ratings_table = \"\"\"CREATE TABLE IF NOT EXISTS ratings (\n",
    "                    userId INT,\n",
    "                    movieId INT NOT NULL,\n",
    "                    rating REAL,\n",
    "                    timestamp INT,\n",
    "                    CONSTRAINT fk_movieId\n",
    "                        FOREIGN KEY(movieId)\n",
    "                        REFERENCES movies(movieID),\n",
    "                    PRIMARY KEY(userId, movieId)\n",
    "                )\"\"\"\n",
    "ratings_insert = 'INSERT INTO ratings (userId, movieId, rating, timestamp) values (%s, %s, %s, %s)'\n",
    "\n",
    "crud.create_and_insert(conn, ratings_table, ratings_insert, ratings_file)"
   ]
  },
  {
   "cell_type": "code",
   "execution_count": 5,
   "metadata": {},
   "outputs": [],
   "source": [
    "#Links table\n",
    "links_file = 'CSV/links.csv'\n",
    "links_table = \"\"\"CREATE TABLE IF NOT EXISTS links (\n",
    "                    movieId INT NOT NULL PRIMARY KEY,\n",
    "                    imdbId INT,\n",
    "                    tmdbId TEXT,\n",
    "                    CONSTRAINT fk_movieId\n",
    "                        FOREIGN KEY(movieId)\n",
    "                        REFERENCES movies(movieId)\n",
    "              )\"\"\"\n",
    "links_insert = 'INSERT INTO links (movieId, imdbId, tmdbId) values (%s, %s, %s)'\n",
    "\n",
    "crud.create_and_insert(conn, links_table, links_insert, links_file)"
   ]
  },
  {
   "cell_type": "code",
   "execution_count": 6,
   "metadata": {},
   "outputs": [],
   "source": [
    "#Tags table\n",
    "tags_file = 'CSV/tags.csv'\n",
    "tags_table = \"\"\"CREATE TABLE IF NOT EXISTS tags (\n",
    "                    userId INT,\n",
    "                    movieId INT NOT NULL,\n",
    "                    tag TEXT,\n",
    "                    timestamp INT,\n",
    "                    CONSTRAINT fk_movieId\n",
    "                        FOREIGN KEY(movieId)\n",
    "                        REFERENCES movies(movieId),\n",
    "                    PRIMARY KEY(userId, movieId, tag)\n",
    "              )\"\"\"\n",
    "tags_insert = 'INSERT INTO tags (userId, movieId, tag, timestamp) values (%s, %s, %s, %s)'\n",
    "\n",
    "\n",
    "crud.create_and_insert(conn, tags_table, tags_insert, tags_file)"
   ]
  },
  {
   "cell_type": "markdown",
   "metadata": {},
   "source": [
    "### Traitements sur les données (Ajout des colonnes year & title_only)"
   ]
  },
  {
   "cell_type": "code",
   "execution_count": 7,
   "metadata": {},
   "outputs": [],
   "source": [
    "from pathlib import Path\n",
    "\n",
    "# Répertoire dataset (small)\n",
    "repertoire_data = Path('CSV')\n",
    "\n",
    "# Chemin vers les différents fichiers de données\n",
    "chemin_movies = repertoire_data / 'movies.csv'\n",
    "\n",
    "# Récupération des données années & titres\n",
    "movies_dict = utils.lire_csv_dict(chemin_movies)\n",
    "year = []\n",
    "title_only = []\n",
    "\n",
    "for i in range(len(movies_dict)):\n",
    "    try:\n",
    "        m = utils.renvoyer_annee_titre_film(movies_dict[i]['title'])\n",
    "        year.append(m[0])\n",
    "        title_only.append(m[1])\n",
    "    except:\n",
    "        print(f\"Erreur de lecture sur {movies_dict[i]['title']}\")"
   ]
  },
  {
   "cell_type": "code",
   "execution_count": 8,
   "metadata": {},
   "outputs": [
    {
     "name": "stdout",
     "output_type": "stream",
     "text": [
      "Les données ont étés modifiées\n",
      "Les données ont étés modifiées\n"
     ]
    }
   ],
   "source": [
    "# Mise à jour des données avec les nouvelles colonnes\n",
    "crud.update_database(conn, title_only, \"title_only\", \"TEXT\")\n",
    "crud.update_database(conn, year, \"year\", \"INT\")"
   ]
  },
  {
   "cell_type": "code",
   "execution_count": 9,
   "metadata": {},
   "outputs": [
    {
     "name": "stdout",
     "output_type": "stream",
     "text": [
      "Les données ont été lues avec succès\n"
     ]
    },
    {
     "data": {
      "text/plain": [
       "[(1,\n",
       "  'Toy Story (1995)',\n",
       "  'Adventure|Animation|Children|Comedy|Fantasy',\n",
       "  'Toy Story',\n",
       "  1995),\n",
       " (2, 'Jumanji (1995)', 'Adventure|Children|Fantasy', 'Jumanji', 1995),\n",
       " (3, 'Grumpier Old Men (1995)', 'Comedy|Romance', 'Grumpier Old Men', 1995),\n",
       " (4,\n",
       "  'Waiting to Exhale (1995)',\n",
       "  'Comedy|Drama|Romance',\n",
       "  'Waiting to Exhale',\n",
       "  1995),\n",
       " (5,\n",
       "  'Father of the Bride Part II (1995)',\n",
       "  'Comedy',\n",
       "  'Father of the Bride Part II',\n",
       "  1995)]"
      ]
     },
     "execution_count": 9,
     "metadata": {},
     "output_type": "execute_result"
    }
   ],
   "source": [
    "#Affichage des 5 première lignes de la table movies modifiée\n",
    "select_query = '''SELECT * FROM movies ORDER BY movieId ASC LIMIT 5'''\n",
    "crud.lire_donnees(conn, select_query)"
   ]
  }
 ],
 "metadata": {
  "kernelspec": {
   "display_name": "Python 3",
   "language": "python",
   "name": "python3"
  },
  "language_info": {
   "codemirror_mode": {
    "name": "ipython",
    "version": 3
   },
   "file_extension": ".py",
   "mimetype": "text/x-python",
   "name": "python",
   "nbconvert_exporter": "python",
   "pygments_lexer": "ipython3",
   "version": "3.8.6"
  }
 },
 "nbformat": 4,
 "nbformat_minor": 4
}
